{
 "cells": [
  {
   "cell_type": "code",
   "execution_count": null,
   "id": "113fe1a7",
   "metadata": {},
   "outputs": [],
   "source": [
    "using JuMP\n",
    "using HiGHS"
   ]
  },
  {
   "cell_type": "code",
   "execution_count": null,
   "id": "ced510bf",
   "metadata": {},
   "outputs": [],
   "source": [
    "mutable struct LotSizingData\n",
    "    n::Int #numero de periodos\n",
    "    c::Array{Int} #custo de produção\n",
    "    h::Array{Int} #custo de estoque\n",
    "    d::Array{Int} #demandas dos clientes\n",
    "end"
   ]
  },
  {
   "cell_type": "code",
   "execution_count": null,
   "id": "c16daff0",
   "metadata": {},
   "outputs": [],
   "source": [
    "\n",
    "function readData(file)\n",
    "    \n",
    "end"
   ]
  },
  {
   "cell_type": "code",
   "execution_count": null,
   "id": "4112d22a",
   "metadata": {},
   "outputs": [],
   "source": [
    "\n",
    "function printSolution(data, x)\n",
    "\tprintln(\"Esquema de produção:\")\n",
    "\tfor i = 1: data.n\n",
    "\t\tprintln(\"No periodo $i é produzido $(value(x[i]))\")\n",
    "\tend\n",
    "\tprintln()\n",
    "end"
   ]
  },
  {
   "cell_type": "code",
   "execution_count": null,
   "id": "a619b1d0",
   "metadata": {},
   "outputs": [],
   "source": [
    "model = Model(HiGHS.Optimizer)\n",
    "\n",
    "file = open(ARGS[1], \"r\")\n",
    "\n",
    "data = readData(file)\n",
    "\n",
    "@variable(model, x[i=1:data.n] >= 0)\n",
    "@variable(model, s[i=1:data.n+1] >= 0)\n",
    "\n",
    "for i=1:data.n\n",
    "\t@constraint(model, s[i+1] == s[i] + x[i] - data.d[i] )\t\n",
    "end\n",
    "\n",
    "@constraint(model, s[1] == 0)\n",
    "\n",
    "\n",
    "@objective(model, Min, sum(data.c[i]*x[i] + data.h[i]*s[i]  for i=1:data.n))\n",
    "\n",
    "print(model)\n",
    "\n",
    "optimize!(model)\n",
    "\n",
    "sol = objective_value(model)\n",
    "println(\"Valor otimo= \", sol)\n",
    "\n",
    "printSolution(data, x)"
   ]
  }
 ],
 "metadata": {
  "kernelspec": {
   "display_name": "Julia 1.9.2",
   "language": "julia",
   "name": "julia-1.9"
  },
  "language_info": {
   "file_extension": ".jl",
   "mimetype": "application/julia",
   "name": "julia",
   "version": "1.9.2"
  }
 },
 "nbformat": 4,
 "nbformat_minor": 5
}
